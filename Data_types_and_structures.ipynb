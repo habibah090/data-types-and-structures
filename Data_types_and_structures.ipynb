{
  "nbformat": 4,
  "nbformat_minor": 0,
  "metadata": {
    "colab": {
      "provenance": []
    },
    "kernelspec": {
      "name": "python3",
      "display_name": "Python 3"
    },
    "language_info": {
      "name": "python"
    }
  },
  "cells": [
    {
      "cell_type": "markdown",
      "source": [
        "Data types and structures theory questions"
      ],
      "metadata": {
        "id": "CCmXdu-yxuyd"
      }
    },
    {
      "cell_type": "markdown",
      "source": [
        "1. What are data structures, and why are they important\n",
        "- Data structures are fundamental building blocks in computer science that define how data is organized and stored for efficient access and retrieval. They are essential for writing efficient code, improving performance, and managing complex data sets.\n",
        "\n",
        "2.   Explain the difference between mutable and immutable data types with examples\n",
        "- Mutable Data Type – A mutable data type is one whose values can be changed.\n",
        "Example: List, Dictionaries, and Set\n",
        "\n",
        "- Immutable Data Type – An immutable data type is one in which the values can’t be changed or altered.\n",
        "Example: String and Tuples\n",
        "\n",
        "3. What are the main differences between lists and tuples in Python3\n",
        "- Lists: are mutable, meaning their elements can be changed, added, or removed after creation.\n",
        "-Tuples: are immutable, meaning their elements cannot be changed after creation.\n",
        "\n",
        "4.  Describe how dictionaries store data\n",
        "- With dictionaries, data is stored in a key:value format. In this example, myCar is the variable that we have assigned our dictionary to. \"Brand\", \"Model\" and \"Year\" are the keys, while \"Hyundai\", \"Palisade\" and \"2020\" are the values.\n",
        "\n",
        "5. Why might you use a set instead of a list in Python\n",
        "-When you need to store only unique elements.\n",
        "\n",
        "-When you don't need to maintain the order of elements.\n",
        "\n",
        "-When you need to perform fast membership tests.\n",
        "\n",
        "-When you need to perform mathematical set operations.\n",
        "\n",
        "-When you need to remove duplicate elements from a list.\n",
        "\n",
        " -sets are more efficient for operations that require uniqueness, fast lookups, and set operations. Lists are more suitable when you need to maintain the order of elements and allow duplicates.\n",
        "\n",
        " 6. What is a string in Python, and how is it different from a list\n",
        "\n",
        " - 1 - Strings in Python are sequences of characters enclosed in quotes ('' or “”). Lists are ordered collections of items enclosed in square brackets [ ].\n",
        "\n",
        " - 2) Strings are immutable, meaning they cannot be changed once created, while lists are mutable and can be modified as needed.\n",
        "\n",
        " 7.  How do tuples ensure data integrity in Python\n",
        " - Tuples provide data integrity because they are immutable. Once initialized, their values cannot be modified accidentally, ensuring critical configuration data remains unchanged during program execution.\n",
        "\n",
        " 8. What is a hash table, and how does it relate to dictionaries in Python\n",
        " - A hash table is a data structure that stores key-value pairs. It uses a hash function to compute an index into an array of \"buckets\" or \"slots,\" where the value is stored. This allows for efficient lookups, insertions, and deletions of data.\n",
        "\n",
        "- In Python, dictionaries are implemented using hash tables. When you insert a key-value pair into a dictionary, Python calculates the hash value of the key and uses it to determine the index where the value should be stored. This is why dictionary keys must be hashable (immutable) objects, like integers, strings, and tuples.\n",
        "\n",
        "9. Can lists contain different data types in Python\n",
        "- Yes, lists in Python can contain different data types. This is one of the key features that makes them versatile. A single list can hold integers, floats, strings, booleans, and even other lists, tuples, or dictionaries.\n",
        "\n",
        "10. Explain why strings are immutable in Python\n",
        "- Strings in Python are immutable to ensure consistency, performance, and safety. Since strings are often used as dictionary keys or set elements, immutability guarantees their hash values remain constant and avoids issues with modifying data that is being referenced elsewhere. This allows Python to optimize memory usage through string interning, where common strings are shared across the program.\n",
        "\n",
        "11.  What advantages do dictionaries offer over lists for certain tasks\n",
        "- Dictionaries and lists are two fundamental data structures in Python, each with its unique strengths and weaknesses. Dictionaries excel in scenarios requiring fast lookups, key-value associations, and complex data mappings, while lists are ideal for ordered collections, sequential processing, and simple data storage.\n",
        "\n",
        "12. Describe a scenario where using a tuple would be preferable over a list\n",
        "- Tuples are immutable. Hence, they are primarily used to store data that doesn't change frequently. Any operation can store data in a tuple when you don't want it to change. Tuples are great to use if you want the data in your collection to be read-only, never to change, and always remain the same and constant.\n",
        "\n",
        "13. How do sets handle duplicate values in Python?\n",
        "- In Python, sets automatically remove duplicate values because they are designed to store only unique elements. When you try to add a duplicate item to a set, Python simply ignores it, ensuring that each element in the set appears only once. This behavior is due to the underlying hashing mechanism that allows quick lookup of items—if the hash of an element already exists in the set, it won't be added again. This makes sets ideal for situations where you need to store unique items, but if duplicates are encountered, they won't be retained.\n",
        "\n",
        "14.  How does the “in” keyword work differently for lists and dictionaries?\n",
        "- In Python, the in keyword works differently for lists and dictionaries: for lists, it checks if a value is present within the list, iterating over all the elements to find a match; for dictionaries, it checks if a key exists in the dictionary, not the value. When used with a list, in returns True if the specified element is found, while for dictionaries, it only checks the keys, not the associated values. This distinction makes in more efficient in dictionaries, as it directly checks for keys, leveraging the hash table structure for faster lookups.\n",
        "\n",
        "15. Can you modify the elements of a tuple? Explain why or why not?\n",
        "- No, you cannot directly modify the elements of a tuple after it has been created. Tuples are immutable data structures, meaning their contents cannot be changed, added to, or removed from once they are defined. This immutability ensures that the data within a tuple remains consistent and predictable throughout its lifetime.\n",
        "\n",
        "16.  What is a nested dictionary, and give an example of its use case?\n",
        "- A nested dictionary in Python is a dictionary where the values themselves can be dictionaries. This allows you to represent more complex hierarchical data structures. Each key in the outer dictionary can map to another dictionary, enabling the storage of related data under each key in a structured way.\n",
        "\n",
        "Consider a scenario where you need to store information about multiple students, including their grades and contact information.\n",
        "A nested dictionary would allow you to organize this data efficiently.\n",
        "'''\n",
        "\n",
        "students = {\n",
        "    \"John\": {\n",
        "        \"age\": 18,\n",
        "        \"grades\": {\"math\": 90, \"english\": 85},\n",
        "        \"contact\": {\"email\": \"john@example.com\", \"phone\": \"123-456-7890\"}\n",
        "    },\n",
        "    \"Alice\": {\n",
        "        \"age\": 19,\n",
        "        \"grades\": {\"math\": 92, \"english\": 88},\n",
        "        \"contact\": {\"email\": \"alice@example.com\", \"phone\": \"987-654-3210\"}\n",
        "    }\n",
        "}\n",
        "\n",
        "17. Describe the time complexity of accessing elements in a dictionary?\n",
        "- Accessing an element in a dictionary typically has an average time complexity of O(1), meaning it takes constant time regardless of the dictionary's size. This is due to the use of a hash table, which allows for direct lookup of elements based on their key. In the worst-case scenario, where a hash function causes many collisions, the time complexity can degrade to O(n), where n is the number of elements in the dictionary.\n",
        "\n",
        "18. In what situations are lists preferred over dictionaries?\n",
        "- For quick data look-ups, configurations, or caches, favor dictionaries. For ordered collections and sequence operations, such as maintaining a stack or queue, lists are more suitable.\n",
        "\n",
        "19. Why are dictionaries considered unordered, and how does that affect data retrieval?\n",
        "- Dictionaries in Python are considered unordered because they do not guarantee any specific order of the keys. This is because dictionaries are implemented using a hash table, where the keys are hashed to determine their location in memory, and the ordering is not based on the order of insertion. However, starting from Python 3.7, dictionaries preserve insertion order in practice, meaning the order in which items are added is maintained, but this is an implementation detail, not a language guarantee. Despite this, the key aspect is that dictionaries are not designed to be ordered; they prioritize efficient data retrieval (constant-time average lookup complexity O(1)) over maintaining a predictable order, which makes accessing values by key very fast, but you cannot rely on the keys being in any specific order unless explicitly sorted.\n",
        "\n",
        "20.  Explain the difference between a list and a dictionary in terms of data retrieval.\n",
        "- In terms of data retrieval, lists are accessed by index, while dictionaries are accessed by key. This means that to retrieve a specific element from a list, you use its numerical position (starting from 0), whereas for a dictionary, you use the associated key to find the corresponding value.\n",
        "\n",
        "\n"
      ],
      "metadata": {
        "id": "ADFPgVS-x97b"
      }
    },
    {
      "cell_type": "markdown",
      "source": [
        "practical questions"
      ],
      "metadata": {
        "id": "zL5ApGQ-LtTP"
      }
    },
    {
      "cell_type": "code",
      "source": [
        "## 1. Write a code to create a string with your name and print it\n",
        "\n",
        "# Create a string with your name\n",
        "my_name = \"habibah\"\n",
        "\n",
        "# Print the string\n",
        "print(my_name)\n"
      ],
      "metadata": {
        "id": "ifrK_BQ8IiAX",
        "colab": {
          "base_uri": "https://localhost:8080/"
        },
        "outputId": "48c34fd2-8182-4dd5-b9dc-c7b1b115f6dc"
      },
      "execution_count": 1,
      "outputs": [
        {
          "output_type": "stream",
          "name": "stdout",
          "text": [
            "habibah\n"
          ]
        }
      ]
    },
    {
      "cell_type": "code",
      "source": [
        "## 2. Write a code to find the length of the string \"Hello World\"\n",
        "\n",
        "string = \"Hello World\"\n",
        "length = len(string)\n",
        "print(length) # Output: 11"
      ],
      "metadata": {
        "colab": {
          "base_uri": "https://localhost:8080/"
        },
        "id": "rnkD09JlvAwj",
        "outputId": "6321d6ce-c949-4686-aa18-f1ce765e4a08"
      },
      "execution_count": 2,
      "outputs": [
        {
          "output_type": "stream",
          "name": "stdout",
          "text": [
            "11\n"
          ]
        }
      ]
    },
    {
      "cell_type": "code",
      "source": [
        "## 3. Write a code to slice the first 3 characters from the string \"Python Programming\"\n",
        "\n",
        "text = \"Python Programming\"\n",
        "sliced_text = text[:3]\n",
        "print(sliced_text)"
      ],
      "metadata": {
        "colab": {
          "base_uri": "https://localhost:8080/"
        },
        "id": "87ZNfdlyvrlR",
        "outputId": "e380ec63-c6a9-4be5-cc7a-2bf4420c153e"
      },
      "execution_count": 3,
      "outputs": [
        {
          "output_type": "stream",
          "name": "stdout",
          "text": [
            "Pyt\n"
          ]
        }
      ]
    },
    {
      "cell_type": "code",
      "source": [
        "## 4. Write a code to convert the string \"hello\" to uppercase\n",
        "\n",
        "string = \"hello\"\n",
        "uppercase_string = string.upper()\n",
        "print(uppercase_string)\n"
      ],
      "metadata": {
        "colab": {
          "base_uri": "https://localhost:8080/"
        },
        "id": "TTTAFIftv30K",
        "outputId": "bf30d7a7-b00d-49d6-86da-280aaa6bde18"
      },
      "execution_count": 4,
      "outputs": [
        {
          "output_type": "stream",
          "name": "stdout",
          "text": [
            "HELLO\n"
          ]
        }
      ]
    },
    {
      "cell_type": "code",
      "source": [
        "## 6. Write a code to create a list with numbers 1 to 5 and print it\n",
        "\n",
        "r1 = 0\n",
        "r2 = 10\n",
        "\n",
        "li = list(range(r1,r2))\n",
        "print(li)"
      ],
      "metadata": {
        "colab": {
          "base_uri": "https://localhost:8080/"
        },
        "id": "AV3FbsdxwYmB",
        "outputId": "0888f5ee-d673-45e4-aca1-4a88fd50daa8"
      },
      "execution_count": 5,
      "outputs": [
        {
          "output_type": "stream",
          "name": "stdout",
          "text": [
            "[0, 1, 2, 3, 4, 5, 6, 7, 8, 9]\n"
          ]
        }
      ]
    },
    {
      "cell_type": "code",
      "source": [
        "## 7.\n",
        "\n",
        "my_list = [1, 2, 3, 4]\n",
        "my_list.append(10)\n",
        "print(my_list)"
      ],
      "metadata": {
        "colab": {
          "base_uri": "https://localhost:8080/"
        },
        "id": "DCi3FtM2wldg",
        "outputId": "41bc9789-c404-4c49-eeda-e1b85086eb5f"
      },
      "execution_count": 6,
      "outputs": [
        {
          "output_type": "stream",
          "name": "stdout",
          "text": [
            "[1, 2, 3, 4, 10]\n"
          ]
        }
      ]
    },
    {
      "cell_type": "code",
      "source": [
        "## 8.  Write a code to remove the number 3 from the list [1, 2, 3, 4, 5]\n",
        "\n",
        "my_list = [1, 2, 3, 4, 5]\n",
        "my_list.remove(3)\n",
        "print(my_list)"
      ],
      "metadata": {
        "colab": {
          "base_uri": "https://localhost:8080/"
        },
        "id": "B2LUSXd4zJ75",
        "outputId": "8c79d031-28ad-4626-ff3e-43c0278bc9e9"
      },
      "execution_count": 7,
      "outputs": [
        {
          "output_type": "stream",
          "name": "stdout",
          "text": [
            "[1, 2, 4, 5]\n"
          ]
        }
      ]
    },
    {
      "cell_type": "code",
      "source": [
        "## 9. Write a code to access the second element in the list ['a', 'b', 'c', 'd']\n",
        "\n",
        "my_list = ['a', 'b', 'c', 'd']\n",
        "second_element = my_list[1]\n",
        "print(second_element)"
      ],
      "metadata": {
        "colab": {
          "base_uri": "https://localhost:8080/"
        },
        "id": "uqfThR411Th6",
        "outputId": "7445ead3-7f41-4121-b46b-ac5698d846d6"
      },
      "execution_count": 8,
      "outputs": [
        {
          "output_type": "stream",
          "name": "stdout",
          "text": [
            "b\n"
          ]
        }
      ]
    },
    {
      "cell_type": "code",
      "source": [
        "## 10. Write a code to reverse the list [10, 20, 30, 40, 50].\n",
        "\n",
        "my_list = [10, 20, 30, 40, 50]\n",
        "reversed_list = my_list[::-1]\n",
        "print(reversed_list)\n",
        "\n"
      ],
      "metadata": {
        "colab": {
          "base_uri": "https://localhost:8080/"
        },
        "id": "gH-Q36_y2G-I",
        "outputId": "d26c8d8a-535c-478d-fe21-6a0db82c6075"
      },
      "execution_count": 10,
      "outputs": [
        {
          "output_type": "stream",
          "name": "stdout",
          "text": [
            "[50, 40, 30, 20, 10]\n"
          ]
        }
      ]
    },
    {
      "cell_type": "code",
      "source": [
        "## 11. Write a code to create a tuple with the elements 100, 200, 300 and print it.\n",
        "\n",
        "# Create a tuple with elements 100, 200, and 300\n",
        "my_tuple = (100, 200, 300)\n",
        "\n",
        "# Print the tuple\n",
        "print(my_tuple)"
      ],
      "metadata": {
        "colab": {
          "base_uri": "https://localhost:8080/"
        },
        "id": "Df1GToQu2gj8",
        "outputId": "af718c06-210f-4938-eaad-f244467dc8ce"
      },
      "execution_count": 11,
      "outputs": [
        {
          "output_type": "stream",
          "name": "stdout",
          "text": [
            "(100, 200, 300)\n"
          ]
        }
      ]
    },
    {
      "cell_type": "code",
      "source": [
        "## 12. Write a code to access the second-to-last element of the tuple ('red', 'green', 'blue', 'yellow').\n",
        "\n",
        "my_tuple = ('red', 'green', 'blue', 'yellow')\n",
        "second_to_last_element = my_tuple[-2]\n",
        "print(second_to_last_element)"
      ],
      "metadata": {
        "colab": {
          "base_uri": "https://localhost:8080/"
        },
        "id": "9OgmHc0-2xKF",
        "outputId": "93072b82-f3e0-48ee-afd5-47bb1efe5c8e"
      },
      "execution_count": 12,
      "outputs": [
        {
          "output_type": "stream",
          "name": "stdout",
          "text": [
            "blue\n"
          ]
        }
      ]
    },
    {
      "cell_type": "code",
      "source": [
        "## 13.  Write a code to find the minimum number in the tuple (10, 20, 5, 15).\n",
        "\n",
        "my_tuple = (10, 20, 5, 15)\n",
        "minimum_number = min(my_tuple)\n",
        "print(minimum_number)"
      ],
      "metadata": {
        "colab": {
          "base_uri": "https://localhost:8080/"
        },
        "id": "OC3ebyAb3OAz",
        "outputId": "7847593e-cce6-471e-c4c2-e6232e57c80e"
      },
      "execution_count": 14,
      "outputs": [
        {
          "output_type": "stream",
          "name": "stdout",
          "text": [
            "5\n"
          ]
        }
      ]
    },
    {
      "cell_type": "code",
      "source": [
        "## 14.  Write a code to find the index of the element \"cat\" in the tuple ('dog', 'cat', 'rabbit').\n",
        "\n",
        "my_tuple = ('dog', 'cat', 'rabbit')\n",
        "index_of_cat = my_tuple.index('cat')\n",
        "print(index_of_cat)"
      ],
      "metadata": {
        "colab": {
          "base_uri": "https://localhost:8080/"
        },
        "id": "lcPhGSPt3ig3",
        "outputId": "8bb02970-8a9c-4a42-caa9-9235e189bc01"
      },
      "execution_count": 15,
      "outputs": [
        {
          "output_type": "stream",
          "name": "stdout",
          "text": [
            "1\n"
          ]
        }
      ]
    },
    {
      "cell_type": "code",
      "source": [
        "## 15.  Write a code to create a tuple containing three different fruits and check if \"kiwi\" is in it.\n",
        "\n",
        "fruits_tuple = (\"apple\", 'banana', \"orange\")\n",
        "is_kiwi_in_tuple = \"kiwi\" in fruits_tuple\n",
        "print(is_kiwi_in_tuple)"
      ],
      "metadata": {
        "colab": {
          "base_uri": "https://localhost:8080/"
        },
        "id": "5E-HXIF736Iq",
        "outputId": "531dc92b-932c-4385-8a3d-1ed051513812"
      },
      "execution_count": 16,
      "outputs": [
        {
          "output_type": "stream",
          "name": "stdout",
          "text": [
            "False\n"
          ]
        }
      ]
    },
    {
      "cell_type": "code",
      "source": [
        "## 16. . Write a code to create a set with the elements 'a', 'b', 'c' and print it.\n",
        "my_set = {'a', 'b', 'c'}90\n",
        "print(my_set)"
      ],
      "metadata": {
        "colab": {
          "base_uri": "https://localhost:8080/"
        },
        "id": "QuVccSbo4bXR",
        "outputId": "169fea34-c856-4676-86c6-014fb64d3954"
      },
      "execution_count": 17,
      "outputs": [
        {
          "output_type": "stream",
          "name": "stdout",
          "text": [
            "{'b', 'a', 'c'}\n"
          ]
        }
      ]
    },
    {
      "cell_type": "code",
      "source": [
        "## 17. Write a code to clear all elements from the set {1, 2, 3, 4, 5}.\n",
        "\n",
        "my_set = {1, 2, 3, 4, 5}\n",
        "my_set.clear()"
      ],
      "metadata": {
        "id": "f4VaVWVw4o1P"
      },
      "execution_count": 18,
      "outputs": []
    },
    {
      "cell_type": "code",
      "source": [
        "## 18.  Write a code to remove the element 4 from the set {1, 2, 3, 4}.\n",
        "\n",
        "my_set = {1, 2, 3, 4}\n",
        "my_set.remove(4)\n",
        "my_set"
      ],
      "metadata": {
        "colab": {
          "base_uri": "https://localhost:8080/"
        },
        "id": "nRzabaDi4zs6",
        "outputId": "e76dee19-d0d0-4805-f1c6-1f406f39ac46"
      },
      "execution_count": 22,
      "outputs": [
        {
          "output_type": "execute_result",
          "data": {
            "text/plain": [
              "{1, 2, 3}"
            ]
          },
          "metadata": {},
          "execution_count": 22
        }
      ]
    },
    {
      "cell_type": "code",
      "source": [
        "## 19.  Write a code to find the union of two sets {1, 2, 3} and {3, 4, 5}\n",
        "\n",
        "set1 = {1, 2, 3}\n",
        "set2 = {3, 4, 5}\n",
        "union_set = set1.union(set2)\n",
        "print(union_set)\n",
        "\n"
      ],
      "metadata": {
        "colab": {
          "base_uri": "https://localhost:8080/"
        },
        "id": "ZUhnU8Ok5GjG",
        "outputId": "13a5c322-179e-49b5-b20c-88aedc47f245"
      },
      "execution_count": 23,
      "outputs": [
        {
          "output_type": "stream",
          "name": "stdout",
          "text": [
            "{1, 2, 3, 4, 5}\n"
          ]
        }
      ]
    },
    {
      "cell_type": "code",
      "source": [
        "## 20. . Write a code to find the intersection of two sets {1, 2, 3} and {2, 3, 4}\n",
        "\n",
        "set1 = {1, 2, 3}\n",
        "set2 = {2, 3, 4}\n",
        "intersection_set = set1.intersection(set2)\n",
        "print(intersection_set)"
      ],
      "metadata": {
        "colab": {
          "base_uri": "https://localhost:8080/"
        },
        "id": "r7G0sF1k5w6Y",
        "outputId": "f38c0e8c-0a89-4146-cbd6-291181ec58f7"
      },
      "execution_count": 24,
      "outputs": [
        {
          "output_type": "stream",
          "name": "stdout",
          "text": [
            "{2, 3}\n"
          ]
        }
      ]
    },
    {
      "cell_type": "code",
      "source": [
        "## 21. Write a code to create a dictionary with the keys \"name\", \"age\", and \"city\", and print it\n",
        "\n",
        "my_dict = {\n",
        "    \"name\": \"habibah\",\n",
        "    \"age\": 20,\n",
        "    \"city\": \"kolkata\"\n",
        "}"
      ],
      "metadata": {
        "id": "4N-BE40K6R2Q"
      },
      "execution_count": 30,
      "outputs": []
    },
    {
      "cell_type": "code",
      "source": [
        "## 22. Write a code to add a new key-value pair \"country\": \"USA\" to the dictionary {'name': 'John', 'age': 25}\n",
        "\n",
        "my_dict = {'name': 'john', 'age': 30}\n",
        "my_dict['country'] = 'USA'\n",
        "print(my_dict)\n",
        "\n"
      ],
      "metadata": {
        "colab": {
          "base_uri": "https://localhost:8080/"
        },
        "id": "NErt0ARU6sBm",
        "outputId": "c7556de4-087c-4654-aa8a-7a14cb91a084"
      },
      "execution_count": 46,
      "outputs": [
        {
          "output_type": "stream",
          "name": "stdout",
          "text": [
            "{'name': 'john', 'age': 30, 'country': 'USA'}\n"
          ]
        }
      ]
    },
    {
      "cell_type": "code",
      "source": [
        "## 23. Write a code to access the value associated with the key \"name\" in the dictionary {'name': 'Alice', 'age': 30}\n",
        "\n",
        "my_dict = {'name': 'alice', 'age': 30}\n",
        "name_value = my_dict['name']\n",
        "print(name_value)\n"
      ],
      "metadata": {
        "colab": {
          "base_uri": "https://localhost:8080/"
        },
        "id": "ItfC2Qar-p22",
        "outputId": "53d96f37-d71d-41f3-e761-db071b09928d"
      },
      "execution_count": 32,
      "outputs": [
        {
          "output_type": "stream",
          "name": "stdout",
          "text": [
            "alice\n"
          ]
        }
      ]
    },
    {
      "cell_type": "code",
      "source": [
        "## 24. Write a code to remove the key \"age\" from the dictionary {'name': 'Bob', 'age': 22, 'city': 'New York'}\n",
        "\n",
        "my_name = {'name': 'bob', 'age': 20, 'city': 'kolkata'}\n",
        "my_name.pop('age')\n",
        "my_name\n"
      ],
      "metadata": {
        "colab": {
          "base_uri": "https://localhost:8080/"
        },
        "id": "zdvwKgpH_CTl",
        "outputId": "78285c12-e065-4a98-d12b-d17e61d0c214"
      },
      "execution_count": 33,
      "outputs": [
        {
          "output_type": "execute_result",
          "data": {
            "text/plain": [
              "{'name': 'bob', 'city': 'kolkata'}"
            ]
          },
          "metadata": {},
          "execution_count": 33
        }
      ]
    },
    {
      "cell_type": "code",
      "source": [
        "## 25. Write a code to check if the key \"city\" exists in the dictionary {'name': 'Alice', 'city': 'Paris'}\n",
        "\n",
        "my_dict = {'name': 'alice', 'city': 'paris'}\n",
        "city_exists = 'city' in my_dict\n",
        "print(city_exists)"
      ],
      "metadata": {
        "colab": {
          "base_uri": "https://localhost:8080/"
        },
        "id": "_mYkojId_o7g",
        "outputId": "c2bf07c1-9806-4ef6-f82d-56a63e73632e"
      },
      "execution_count": 34,
      "outputs": [
        {
          "output_type": "stream",
          "name": "stdout",
          "text": [
            "True\n"
          ]
        }
      ]
    },
    {
      "cell_type": "code",
      "source": [
        "## 26. Write a code to create a list, a tuple, and a dictionary, and print them all\n",
        "\n",
        "my_list = [1, 2, 3, 4, 5]\n",
        "my_tuple = (1, 2, 3, 4, 5)\n",
        "my_dict = ({'name': 'alice', 'city': 'paris'})\n",
        "print(my_list)\n",
        "print(my_tuple)\n",
        "print(my_dict)\n",
        "\n"
      ],
      "metadata": {
        "colab": {
          "base_uri": "https://localhost:8080/"
        },
        "id": "QWKLKxfsBwmp",
        "outputId": "b8c3f070-195a-4235-b581-a875d37f3d12"
      },
      "execution_count": 35,
      "outputs": [
        {
          "output_type": "stream",
          "name": "stdout",
          "text": [
            "[1, 2, 3, 4, 5]\n",
            "(1, 2, 3, 4, 5)\n",
            "{'name': 'alice', 'city': 'paris'}\n"
          ]
        }
      ]
    },
    {
      "cell_type": "code",
      "source": [
        "## 27. Write a code to create a list of 5 random numbers between 1 and 100, sort it in ascending order, and print the result.(replaced)\\\n",
        "\n",
        "import random\n",
        "\n",
        "random_numbers = [random.randint(1, 100) for _ in range(5)]\n",
        "random_numbers.sort()\n",
        "print(random_numbers)\n",
        "\n",
        "\n",
        "\n",
        "\n",
        "\n"
      ],
      "metadata": {
        "colab": {
          "base_uri": "https://localhost:8080/"
        },
        "id": "gFyfJVKqCS65",
        "outputId": "27608af5-e935-48fe-a3b9-85a208b1b6e0"
      },
      "execution_count": 44,
      "outputs": [
        {
          "output_type": "stream",
          "name": "stdout",
          "text": [
            "[33, 61, 78, 91, 95]\n"
          ]
        }
      ]
    },
    {
      "cell_type": "code",
      "source": [
        "## 28. Write a code to create a list with strings and print the element at the third index\n",
        "\n",
        "my_list = ['apple', 'banana', 'orange', 'grape', 'kiwi']\n",
        "third_element = my_list[2]\n",
        "print(third_element)\n",
        "\n"
      ],
      "metadata": {
        "colab": {
          "base_uri": "https://localhost:8080/"
        },
        "id": "TVPOdSGNERN5",
        "outputId": "ee419549-c196-4914-9c48-f4e78b520665"
      },
      "execution_count": 39,
      "outputs": [
        {
          "output_type": "stream",
          "name": "stdout",
          "text": [
            "orange\n"
          ]
        }
      ]
    },
    {
      "cell_type": "code",
      "source": [
        "## 29. Write a code to combine two dictionaries into one and print the result.\n",
        "\n",
        "dict1 = {'a': 1, 'b': 2}\n",
        "dict2 = {'c': 3, 'd': 4}\n",
        "combined_dict = {**dict1, **dict2}\n",
        "print(combined_dict)\n",
        "\n"
      ],
      "metadata": {
        "colab": {
          "base_uri": "https://localhost:8080/"
        },
        "id": "EJzCn5rpGH3k",
        "outputId": "12cefc32-5601-4012-c0ac-88325e3ad0b4"
      },
      "execution_count": 43,
      "outputs": [
        {
          "output_type": "stream",
          "name": "stdout",
          "text": [
            "{'a': 1, 'b': 2, 'c': 3, 'd': 4}\n"
          ]
        }
      ]
    },
    {
      "cell_type": "code",
      "source": [
        "## 30. Write a code to convert a list of strings into a set\n",
        "\n",
        "my_list = ['apple', 'orange', 'banana', 'grape', 'kiwi']\n",
        "my_set = set(my_list)\n",
        "print(my_set)"
      ],
      "metadata": {
        "colab": {
          "base_uri": "https://localhost:8080/"
        },
        "id": "DiujfD9OG0e2",
        "outputId": "38e5e37c-7dad-4d69-9134-cd7db56881a3"
      },
      "execution_count": 41,
      "outputs": [
        {
          "output_type": "stream",
          "name": "stdout",
          "text": [
            "{'apple', 'banana', 'grape', 'kiwi', 'orange'}\n"
          ]
        }
      ]
    }
  ]
}